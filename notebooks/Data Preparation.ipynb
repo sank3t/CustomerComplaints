{
 "cells": [
  {
   "cell_type": "code",
   "execution_count": 1,
   "metadata": {},
   "outputs": [],
   "source": [
    "import pandas as pd"
   ]
  },
  {
   "cell_type": "code",
   "execution_count": 2,
   "metadata": {},
   "outputs": [],
   "source": [
    "df_train = pd.read_csv(\n",
    "    \"../data/cleaned/train.csv\", \n",
    "    parse_dates=[\"date_received\", \"date_sent_to_company\"]\n",
    ")\n",
    "\n",
    "df_test = pd.read_csv(\n",
    "    \"../data/cleaned/test.csv\",\n",
    "    parse_dates=[\"date_received\", \"date_sent_to_company\"]\n",
    ")"
   ]
  },
  {
   "cell_type": "code",
   "execution_count": 3,
   "metadata": {},
   "outputs": [
    {
     "data": {
      "text/html": [
       "<div>\n",
       "<style scoped>\n",
       "    .dataframe tbody tr th:only-of-type {\n",
       "        vertical-align: middle;\n",
       "    }\n",
       "\n",
       "    .dataframe tbody tr th {\n",
       "        vertical-align: top;\n",
       "    }\n",
       "\n",
       "    .dataframe thead th {\n",
       "        text-align: right;\n",
       "    }\n",
       "</style>\n",
       "<table border=\"1\" class=\"dataframe\">\n",
       "  <thead>\n",
       "    <tr style=\"text-align: right;\">\n",
       "      <th></th>\n",
       "      <th>date_received</th>\n",
       "      <th>transaction_type</th>\n",
       "      <th>complaint_reason</th>\n",
       "      <th>consumer_complaint_summary</th>\n",
       "      <th>date_sent_to_company</th>\n",
       "      <th>company_response</th>\n",
       "      <th>consumer_disputes</th>\n",
       "      <th>complaint_status</th>\n",
       "    </tr>\n",
       "  </thead>\n",
       "  <tbody>\n",
       "    <tr>\n",
       "      <th>0</th>\n",
       "      <td>2015-03-19</td>\n",
       "      <td>Debt collection</td>\n",
       "      <td>Cont'd attempts collect debt not owed</td>\n",
       "      <td>Je ne dois pas d'argent à cette société. En fa...</td>\n",
       "      <td>2015-03-19</td>\n",
       "      <td>NaN</td>\n",
       "      <td>No</td>\n",
       "      <td>Closed with non-monetary relief</td>\n",
       "    </tr>\n",
       "    <tr>\n",
       "      <th>1</th>\n",
       "      <td>2015-03-19</td>\n",
       "      <td>Mortgage</td>\n",
       "      <td>Settlement process and costs</td>\n",
       "      <td>Carrington Mortgage Services Research dpt.\\nXX...</td>\n",
       "      <td>2015-03-19</td>\n",
       "      <td>NaN</td>\n",
       "      <td>No</td>\n",
       "      <td>Closed with explanation</td>\n",
       "    </tr>\n",
       "    <tr>\n",
       "      <th>2</th>\n",
       "      <td>2015-03-19</td>\n",
       "      <td>Debt collection</td>\n",
       "      <td>Improper contact or sharing of info</td>\n",
       "      <td>After hiring a lawyer in XXXX XXXX due to the ...</td>\n",
       "      <td>2015-03-30</td>\n",
       "      <td>Company chooses not to provide a public response</td>\n",
       "      <td>No</td>\n",
       "      <td>Closed with explanation</td>\n",
       "    </tr>\n",
       "    <tr>\n",
       "      <th>3</th>\n",
       "      <td>2015-03-19</td>\n",
       "      <td>Student loan</td>\n",
       "      <td>Dealing with my lender or servicer</td>\n",
       "      <td>XXXX XXXX, XXXX I submitted the documentation ...</td>\n",
       "      <td>2015-03-25</td>\n",
       "      <td>Company chooses not to provide a public response</td>\n",
       "      <td>No</td>\n",
       "      <td>Closed with explanation</td>\n",
       "    </tr>\n",
       "    <tr>\n",
       "      <th>4</th>\n",
       "      <td>2015-03-19</td>\n",
       "      <td>Credit reporting</td>\n",
       "      <td>Incorrect information on credit report</td>\n",
       "      <td>Cet article a dépassé le délai de prescription...</td>\n",
       "      <td>2015-03-19</td>\n",
       "      <td>NaN</td>\n",
       "      <td>Yes</td>\n",
       "      <td>Closed with explanation</td>\n",
       "    </tr>\n",
       "  </tbody>\n",
       "</table>\n",
       "</div>"
      ],
      "text/plain": [
       "  date_received  transaction_type                        complaint_reason  \\\n",
       "0    2015-03-19   Debt collection   Cont'd attempts collect debt not owed   \n",
       "1    2015-03-19          Mortgage            Settlement process and costs   \n",
       "2    2015-03-19   Debt collection     Improper contact or sharing of info   \n",
       "3    2015-03-19      Student loan      Dealing with my lender or servicer   \n",
       "4    2015-03-19  Credit reporting  Incorrect information on credit report   \n",
       "\n",
       "                          consumer_complaint_summary date_sent_to_company  \\\n",
       "0  Je ne dois pas d'argent à cette société. En fa...           2015-03-19   \n",
       "1  Carrington Mortgage Services Research dpt.\\nXX...           2015-03-19   \n",
       "2  After hiring a lawyer in XXXX XXXX due to the ...           2015-03-30   \n",
       "3  XXXX XXXX, XXXX I submitted the documentation ...           2015-03-25   \n",
       "4  Cet article a dépassé le délai de prescription...           2015-03-19   \n",
       "\n",
       "                                   company_response consumer_disputes  \\\n",
       "0                                               NaN                No   \n",
       "1                                               NaN                No   \n",
       "2  Company chooses not to provide a public response                No   \n",
       "3  Company chooses not to provide a public response                No   \n",
       "4                                               NaN               Yes   \n",
       "\n",
       "                  complaint_status  \n",
       "0  Closed with non-monetary relief  \n",
       "1          Closed with explanation  \n",
       "2          Closed with explanation  \n",
       "3          Closed with explanation  \n",
       "4          Closed with explanation  "
      ]
     },
     "execution_count": 3,
     "metadata": {},
     "output_type": "execute_result"
    }
   ],
   "source": [
    "df_train.head()"
   ]
  },
  {
   "cell_type": "markdown",
   "metadata": {},
   "source": [
    "### Missing value count"
   ]
  },
  {
   "cell_type": "code",
   "execution_count": 4,
   "metadata": {},
   "outputs": [],
   "source": [
    "def missing_value_stats(df: pd.DataFrame):\n",
    "    \"\"\"\n",
    "        Considering the count of NaN points only\n",
    "    \"\"\"\n",
    "    num_rows = df.shape[0]\n",
    "    # Missing value count by columns\n",
    "    df_missing = df.isna().sum().reset_index()\n",
    "    # Renaming columns\n",
    "    df_missing.columns = ['column', 'missing_values']\n",
    "    # Getting only those columns having missing values > 0\n",
    "    df_missing = df_missing[df_missing['missing_values'] > 0]\n",
    "    df_missing.reset_index(drop=True, inplace=True)\n",
    "    # Calculating percentage of missing\n",
    "    df_missing['missing_percentage'] = df_missing['missing_values'].apply(\n",
    "        lambda missing_value: round((missing_value / num_rows) * 100, 2)\n",
    "    )\n",
    "\n",
    "    if df_missing.shape[0] > 0:\n",
    "        display(df_missing)\n",
    "    else:\n",
    "        return \"The dataset has no NaNs\""
   ]
  },
  {
   "cell_type": "code",
   "execution_count": 5,
   "metadata": {},
   "outputs": [
    {
     "data": {
      "text/html": [
       "<div>\n",
       "<style scoped>\n",
       "    .dataframe tbody tr th:only-of-type {\n",
       "        vertical-align: middle;\n",
       "    }\n",
       "\n",
       "    .dataframe tbody tr th {\n",
       "        vertical-align: top;\n",
       "    }\n",
       "\n",
       "    .dataframe thead th {\n",
       "        text-align: right;\n",
       "    }\n",
       "</style>\n",
       "<table border=\"1\" class=\"dataframe\">\n",
       "  <thead>\n",
       "    <tr style=\"text-align: right;\">\n",
       "      <th></th>\n",
       "      <th>column</th>\n",
       "      <th>missing_values</th>\n",
       "      <th>missing_percentage</th>\n",
       "    </tr>\n",
       "  </thead>\n",
       "  <tbody>\n",
       "    <tr>\n",
       "      <th>0</th>\n",
       "      <td>company_response</td>\n",
       "      <td>22506</td>\n",
       "      <td>52.02</td>\n",
       "    </tr>\n",
       "    <tr>\n",
       "      <th>1</th>\n",
       "      <td>consumer_disputes</td>\n",
       "      <td>7698</td>\n",
       "      <td>17.79</td>\n",
       "    </tr>\n",
       "  </tbody>\n",
       "</table>\n",
       "</div>"
      ],
      "text/plain": [
       "              column  missing_values  missing_percentage\n",
       "0   company_response           22506               52.02\n",
       "1  consumer_disputes            7698               17.79"
      ]
     },
     "metadata": {},
     "output_type": "display_data"
    }
   ],
   "source": [
    "missing_value_stats(df=df_train)"
   ]
  },
  {
   "cell_type": "code",
   "execution_count": 6,
   "metadata": {},
   "outputs": [
    {
     "data": {
      "text/html": [
       "<div>\n",
       "<style scoped>\n",
       "    .dataframe tbody tr th:only-of-type {\n",
       "        vertical-align: middle;\n",
       "    }\n",
       "\n",
       "    .dataframe tbody tr th {\n",
       "        vertical-align: top;\n",
       "    }\n",
       "\n",
       "    .dataframe thead th {\n",
       "        text-align: right;\n",
       "    }\n",
       "</style>\n",
       "<table border=\"1\" class=\"dataframe\">\n",
       "  <thead>\n",
       "    <tr style=\"text-align: right;\">\n",
       "      <th></th>\n",
       "      <th>column</th>\n",
       "      <th>missing_values</th>\n",
       "      <th>missing_percentage</th>\n",
       "    </tr>\n",
       "  </thead>\n",
       "  <tbody>\n",
       "    <tr>\n",
       "      <th>0</th>\n",
       "      <td>company_response</td>\n",
       "      <td>9701</td>\n",
       "      <td>52.32</td>\n",
       "    </tr>\n",
       "    <tr>\n",
       "      <th>1</th>\n",
       "      <td>consumer_disputes</td>\n",
       "      <td>3304</td>\n",
       "      <td>17.82</td>\n",
       "    </tr>\n",
       "  </tbody>\n",
       "</table>\n",
       "</div>"
      ],
      "text/plain": [
       "              column  missing_values  missing_percentage\n",
       "0   company_response            9701               52.32\n",
       "1  consumer_disputes            3304               17.82"
      ]
     },
     "metadata": {},
     "output_type": "display_data"
    }
   ],
   "source": [
    "missing_value_stats(df=df_test)"
   ]
  },
  {
   "cell_type": "code",
   "execution_count": 7,
   "metadata": {},
   "outputs": [],
   "source": [
    "df_train[\"company_response\"] = df_train.company_response.fillna(method=\"bfill\")\n",
    "df_test[\"company_response\"] = df_test.company_response.fillna(method=\"bfill\")"
   ]
  }
 ],
 "metadata": {
  "kernelspec": {
   "display_name": "Python 3",
   "language": "python",
   "name": "python3"
  },
  "language_info": {
   "codemirror_mode": {
    "name": "ipython",
    "version": 3
   },
   "file_extension": ".py",
   "mimetype": "text/x-python",
   "name": "python",
   "nbconvert_exporter": "python",
   "pygments_lexer": "ipython3",
   "version": "3.8.10"
  }
 },
 "nbformat": 4,
 "nbformat_minor": 4
}
